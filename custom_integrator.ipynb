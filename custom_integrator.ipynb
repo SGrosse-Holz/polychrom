{
 "cells": [
  {
   "cell_type": "code",
   "execution_count": 1,
   "id": "3198392a",
   "metadata": {},
   "outputs": [
    {
     "name": "stderr",
     "output_type": "stream",
     "text": [
      "Warning: importing 'simtk.openmm' is deprecated.  Import 'openmm' instead.\n"
     ]
    }
   ],
   "source": [
    "import numpy as np\n",
    "import openmm as mm\n",
    "from openmm.app import *\n",
    "from openmmtools import respa, utils\n",
    "from simtk import unit\n",
    "\n",
    "import polychrom\n",
    "import os, sys\n",
    "import polychrom\n",
    "from polychrom import simulation, starting_conformations, forces, forcekits\n",
    "import openmm\n",
    "from polychrom.hdf5_format import HDF5Reporter"
   ]
  },
  {
   "cell_type": "code",
   "execution_count": 2,
   "id": "2a3e5c2b",
   "metadata": {},
   "outputs": [],
   "source": [
    "from openmmtools.integrators import PrettyPrintableIntegrator"
   ]
  },
  {
   "cell_type": "code",
   "execution_count": null,
   "id": "0ae05963",
   "metadata": {},
   "outputs": [],
   "source": [
    "#What is the monomer diffusion coefficient?\n",
    "collision_rate = 0.01 * (1 / unit.picosecond)\n",
    "conlen = 1.0 * unit.nanometer\n",
    "mass = 100 * unit.amu\n",
    "temperature = 300\n",
    "kB = unit.BOLTZMANN_CONSTANT_kB * unit.AVOGADRO_CONSTANT_NA\n",
    "kT = kB * temperature * unit.kelvin\n",
    "force = kT / conlen\n",
    "force * conlen / (mass * collision_rate)"
   ]
  },
  {
   "cell_type": "code",
   "execution_count": 51,
   "id": "0b9dc3be",
   "metadata": {},
   "outputs": [],
   "source": [
    "#one way to create a custom integrator is to subclass\n",
    "class ActiveBrownianIntegrator(utils.RestorableOpenMMObject, PrettyPrintableIntegrator, mm.CustomIntegrator):\n",
    "    \"\"\" Taking inspiration from custom integrators available in openmmtools. They created a\n",
    "    PrettyPrintableIntegrator class that will print out the computation steps of the integrator.\n",
    "    \n",
    "    They also developed a RestorableOpenMMObject: Normally, a custom OpenMM object loses its specific class \n",
    "    (and all its methods) when it is copied or deserialized from its XML representation.\n",
    "    Class interfaces inheriting from this can be restored through the method\n",
    "    ``restore_interface()``. Also, this class extend the copying functions\n",
    "    to copy also Python attributes.\n",
    "    \n",
    "    \"\"\"\n",
    "    def __init__(self, timestep, collision_rate, *args, **kwargs):\n",
    "        super(ActiveBrownianIntegrator, self).__init__(timestep, *args, **kwargs)\n",
    "        #define variables\n",
    "        self.addUpdateContextState()\n",
    "        self.addGlobalVariable(\"zeta\", collision_rate *(1 / unit.picosecond))\n",
    "        self.addGlobalVariable(\"l\", 1.0 * unit.nanometer) #length scale of simulation\n",
    "        self.addPerDofVariable(\"D\", 0.0)\n",
    "        #update context state before adding any computations\n",
    "        self.addComputePerDof(\"D\", \"f1\") #assumes diffusion coefficient is in force group 1\n",
    "        #WARNING: D is in units of force. To convert to units of diffusion coefficient, \n",
    "        #multiply by a length scale and divide by friction coefficient\n",
    "        #self.addComputePerDof(\"xi\", \"zeta*m\") #friction coefficient in correct units\n",
    "        #Euler Marayama update to position\n",
    "        self.addComputePerDof(\"v\", \"v + sqrt(2*(D*l/(zeta*m))/dt)*gaussian\")\n",
    "        #self.addComputePerDof(\"v\", \"v + f0/(zeta*m) + sqrt(2*(D*l/(zeta*m))/dt)*gaussian\")\n",
    "        #self.addConstrainVelocities()\n",
    "        self.addComputePerDof(\"x\", \"x + v*dt\")\n",
    "        #self.addConstrainPositions()\n",
    "        "
   ]
  },
  {
   "cell_type": "code",
   "execution_count": 52,
   "id": "e570381f",
   "metadata": {},
   "outputs": [],
   "source": [
    "def diffusion_constant_force(sim_object, D, name=\"diffusion\", force_group=None):\n",
    "    \"\"\" Force to be added to polychrom.forces module.\n",
    "    Defines a constant external force that varies per particle. Constant force experienced\n",
    "    by each particle in array D.\n",
    "    \n",
    "    Parameters\n",
    "    ----------\n",
    "    D : np.ndarray (N,)\n",
    "        Diffusion coefficients of N particles in units of kT/(mass * collision_rate)\n",
    "    \"\"\"\n",
    "    fakeExternal = mm.CustomExternalForce(\"fx * (x+y+z)\")\n",
    "    fakeExternal.name = name\n",
    "    if force_group:\n",
    "        if type(force_group) != int:\n",
    "            raise TypeError(\"Force group should be an integer 0, 1, 2, etc.\")\n",
    "        fakeExternal.setForceGroup(force_group)\n",
    "    fakeExternal.addPerParticleParameter(\"fx\")\n",
    "    for i in range(sim_object.N):\n",
    "        fakeExternal.addParticle(i, [D[i] * sim_object.kT / sim_object.conlen])\n",
    "        \n",
    "    return fakeExternal\n",
    "        "
   ]
  },
  {
   "cell_type": "code",
   "execution_count": 64,
   "id": "1acce68b",
   "metadata": {},
   "outputs": [
    {
     "data": {
      "text/plain": [
       "array([1., 1., 1., 1., 1., 1., 1., 1., 1., 1., 1., 1., 1., 1., 1., 1., 1.,\n",
       "       1., 1., 1., 1., 1., 1., 1., 1., 1., 1., 1., 1., 1., 1., 1., 1., 1.,\n",
       "       1., 1., 1., 1., 1., 1., 1., 1., 1., 1., 1., 1., 1., 1., 1., 1., 1.,\n",
       "       1., 1., 1., 1., 1., 1., 1., 1., 1., 1., 1., 1., 1., 1., 1., 1., 1.,\n",
       "       1., 1., 1., 1., 1., 1., 1., 1., 1., 1., 1., 1., 1., 1., 1., 1., 1.,\n",
       "       1., 1., 1., 1., 1., 1., 1., 1., 1., 1., 1., 1., 1., 1., 1.])"
      ]
     },
     "execution_count": 64,
     "metadata": {},
     "output_type": "execute_result"
    }
   ],
   "source": [
    "N=100\n",
    "D = np.tile(1.0, N)\n",
    "D"
   ]
  },
  {
   "cell_type": "code",
   "execution_count": 69,
   "id": "78352e15",
   "metadata": {},
   "outputs": [
    {
     "name": "stderr",
     "output_type": "stream",
     "text": [
      "INFO:root:Using the provided integrator object\n"
     ]
    },
    {
     "name": "stdout",
     "output_type": "stream",
     "text": [
      "step      0 : allow forces to update the context state\n",
      "step      1 : D <- f1\n",
      "step      2 : v <- v + sqrt(2*(D*l/(zeta*m))/dt)*gaussian\n",
      "step      3 : x <- x + v*dt\n"
     ]
    }
   ],
   "source": [
    "reporter = HDF5Reporter(folder=\"simulations/test_integrator\", max_data_length=100, overwrite=True)\n",
    "collision_rate = 0.01 * (1 / unit.picosecond)\n",
    "integrator = ActiveBrownianIntegrator(1 * unit.femtosecond, collision_rate)\n",
    "integrator.pretty_print()\n",
    "sim = simulation.Simulation(\n",
    "    platform=\"CUDA\", \n",
    "    integrator=integrator,\n",
    "    error_tol=0.003,\n",
    "    GPU=\"1\",\n",
    "    collision_rate=0.01,\n",
    "    N=N,\n",
    "    save_decimals=2,\n",
    "    PBCbox=[50, 50, 50],\n",
    "    verbose=True,\n",
    "    reporters=[reporter],\n",
    ")\n",
    "\n",
    "polymer = starting_conformations.grow_cubic(N, 50)\n",
    "sim.set_data(polymer, center=True)  # loads a polymer, puts a center of mass at zero\n",
    "sim.add_force(diffusion_constant_force(sim, D, force_group=1))"
   ]
  },
  {
   "cell_type": "code",
   "execution_count": 70,
   "id": "c91badb4",
   "metadata": {
    "scrolled": true
   },
   "outputs": [
    {
     "name": "stderr",
     "output_type": "stream",
     "text": [
      "INFO:root:applying forces\n",
      "INFO:root:adding force diffusion 0\n",
      "INFO:root:Particles loaded. Potential energy is 0.000000\n"
     ]
    },
    {
     "ename": "IntegrationFailError",
     "evalue": "Coordinates are NANs",
     "output_type": "error",
     "traceback": [
      "\u001b[0;31m---------------------------------------------------------------------------\u001b[0m",
      "\u001b[0;31mIntegrationFailError\u001b[0m                      Traceback (most recent call last)",
      "Input \u001b[0;32mIn [70]\u001b[0m, in \u001b[0;36m<cell line: 1>\u001b[0;34m()\u001b[0m\n\u001b[1;32m      1\u001b[0m \u001b[38;5;28;01mfor\u001b[39;00m _ \u001b[38;5;129;01min\u001b[39;00m \u001b[38;5;28mrange\u001b[39m(\u001b[38;5;241m10\u001b[39m):  \u001b[38;5;66;03m# Do 10 blocks\u001b[39;00m\n\u001b[0;32m----> 2\u001b[0m     \u001b[43msim\u001b[49m\u001b[38;5;241;43m.\u001b[39;49m\u001b[43mdo_block\u001b[49m\u001b[43m(\u001b[49m\u001b[38;5;241;43m1\u001b[39;49m\u001b[43m)\u001b[49m  \u001b[38;5;66;03m# Of 100 timesteps each. Data is saved automatically. \u001b[39;00m\n\u001b[1;32m      3\u001b[0m sim\u001b[38;5;241m.\u001b[39mprint_stats()  \u001b[38;5;66;03m# In the end, print very simple statistics\u001b[39;00m\n\u001b[1;32m      5\u001b[0m reporter\u001b[38;5;241m.\u001b[39mdump_data()\n",
      "File \u001b[0;32m~/git-remotes/polychrom/polychrom/simulation.py:719\u001b[0m, in \u001b[0;36mSimulation.do_block\u001b[0;34m(self, steps, check_functions, get_velocities, save, save_extras)\u001b[0m\n\u001b[1;32m    716\u001b[0m         check_fail \u001b[38;5;241m=\u001b[39m \u001b[38;5;28;01mTrue\u001b[39;00m\n\u001b[1;32m    718\u001b[0m \u001b[38;5;28;01mif\u001b[39;00m np\u001b[38;5;241m.\u001b[39misnan(newcoords)\u001b[38;5;241m.\u001b[39many():\n\u001b[0;32m--> 719\u001b[0m     \u001b[38;5;28;01mraise\u001b[39;00m IntegrationFailError(\u001b[38;5;124m\"\u001b[39m\u001b[38;5;124mCoordinates are NANs\u001b[39m\u001b[38;5;124m\"\u001b[39m)\n\u001b[1;32m    720\u001b[0m \u001b[38;5;28;01mif\u001b[39;00m eK \u001b[38;5;241m>\u001b[39m \u001b[38;5;28mself\u001b[39m\u001b[38;5;241m.\u001b[39meK_critical:\n\u001b[1;32m    721\u001b[0m     \u001b[38;5;28;01mraise\u001b[39;00m EKExceedsError(\u001b[38;5;124m\"\u001b[39m\u001b[38;5;124mEk=\u001b[39m\u001b[38;5;132;01m{1}\u001b[39;00m\u001b[38;5;124m exceeds \u001b[39m\u001b[38;5;132;01m{0}\u001b[39;00m\u001b[38;5;124m\"\u001b[39m\u001b[38;5;241m.\u001b[39mformat(\u001b[38;5;28mself\u001b[39m\u001b[38;5;241m.\u001b[39meK_critical, eK))\n",
      "\u001b[0;31mIntegrationFailError\u001b[0m: Coordinates are NANs"
     ]
    }
   ],
   "source": [
    "for _ in range(10):  # Do 10 blocks\n",
    "    sim.do_block(1)  # Of 100 timesteps each. Data is saved automatically. \n",
    "sim.print_stats()  # In the end, print very simple statistics\n",
    "\n",
    "reporter.dump_data()  # always need to run in the end to dump the block cache to the disk\n"
   ]
  },
  {
   "cell_type": "code",
   "execution_count": null,
   "id": "741e7d2a",
   "metadata": {},
   "outputs": [],
   "source": []
  }
 ],
 "metadata": {
  "kernelspec": {
   "display_name": "Python 3 (ipykernel)",
   "language": "python",
   "name": "python3"
  },
  "language_info": {
   "codemirror_mode": {
    "name": "ipython",
    "version": 3
   },
   "file_extension": ".py",
   "mimetype": "text/x-python",
   "name": "python",
   "nbconvert_exporter": "python",
   "pygments_lexer": "ipython3",
   "version": "3.9.7"
  }
 },
 "nbformat": 4,
 "nbformat_minor": 5
}
