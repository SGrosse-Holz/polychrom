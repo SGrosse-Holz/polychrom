{
 "cells": [
  {
   "cell_type": "markdown",
   "id": "18d358e2",
   "metadata": {},
   "source": [
    "# Analyzing the output of a polychrom simulation\n",
    "\n",
    "Running example.py generates a few different output files, one with the starting conformation, one with the intial arguments, one with the appliced forces, one with the forcekit, and finally the blocks. Here, we ran 10 blocks, each of 100 timesteps each, and set the max data length to 5."
   ]
  },
  {
   "cell_type": "code",
   "execution_count": 2,
   "id": "0f90a493",
   "metadata": {},
   "outputs": [
    {
     "name": "stdout",
     "output_type": "stream",
     "text": [
      "applied_forces_0.h5  blocks_5-9.h5                 initArgs_0.h5\r\n",
      "blocks_0-4.h5        forcekit_polymer_chains_0.h5  starting_conformation_0.h5\r\n"
     ]
    }
   ],
   "source": [
    "ls trajectory/"
   ]
  },
  {
   "cell_type": "code",
   "execution_count": 5,
   "id": "2e4a0f4c",
   "metadata": {},
   "outputs": [
    {
     "name": "stdout",
     "output_type": "stream",
     "text": [
      "Requirement already satisfied: pandas in /home/dkannan/miniconda3/lib/python3.9/site-packages (1.4.1)\n",
      "Requirement already satisfied: python-dateutil>=2.8.1 in /home/dkannan/miniconda3/lib/python3.9/site-packages (from pandas) (2.8.2)\n",
      "Requirement already satisfied: numpy>=1.18.5 in /home/dkannan/miniconda3/lib/python3.9/site-packages (from pandas) (1.21.2)\n",
      "Requirement already satisfied: pytz>=2020.1 in /home/dkannan/miniconda3/lib/python3.9/site-packages (from pandas) (2021.3)\n",
      "Requirement already satisfied: six>=1.5 in /home/dkannan/miniconda3/lib/python3.9/site-packages (from python-dateutil>=2.8.1->pandas) (1.16.0)\n"
     ]
    }
   ],
   "source": []
  },
  {
   "cell_type": "code",
   "execution_count": 1,
   "id": "a3ea8ace",
   "metadata": {},
   "outputs": [],
   "source": [
    "import pandas as pd"
   ]
  },
  {
   "cell_type": "code",
   "execution_count": 4,
   "id": "206d22ce",
   "metadata": {},
   "outputs": [],
   "source": [
    "#Here are the import statements sameer used in his notebook to analyze a simulation\n",
    "import os\n",
    "import importlib as imp\n",
    "from collections import defaultdict\n",
    "import h5py\n",
    "import json\n",
    "from copy import deepcopy\n",
    "\n",
    "import matplotlib as mpl\n",
    "import matplotlib.pyplot as plt\n",
    "\n",
    "import numpy as np\n",
    "import numpy.ma as ma\n",
    "import pandas as pd\n",
    "import scipy\n",
    "from scipy.ndimage import gaussian_filter1d\n",
    "from scipy.interpolate import interp1d, interp2d\n",
    "\n",
    "import polychrom\n",
    "from polychrom import polymer_analyses, contactmaps, polymerutils\n",
    "from polychrom.hdf5_format import list_URIs, load_URI\n",
    "\n",
    "import nglutils as ngu\n",
    "import nglview as nv"
   ]
  },
  {
   "cell_type": "code",
   "execution_count": 5,
   "id": "590bf603",
   "metadata": {},
   "outputs": [],
   "source": [
    "%matplotlib notebook"
   ]
  },
  {
   "cell_type": "markdown",
   "id": "61bab219",
   "metadata": {},
   "source": [
    "## Reading data\n",
    "\n",
    "list_URIs will list all of the files starting with `block` with one URI (universal resource identifier aka path) per conformation"
   ]
  },
  {
   "cell_type": "code",
   "execution_count": 6,
   "id": "54859ea0",
   "metadata": {},
   "outputs": [
    {
     "name": "stdout",
     "output_type": "stream",
     "text": [
      "['trajectory/blocks_0-4.h5::0', 'trajectory/blocks_0-4.h5::1', 'trajectory/blocks_0-4.h5::2', 'trajectory/blocks_0-4.h5::3', 'trajectory/blocks_0-4.h5::4', 'trajectory/blocks_5-9.h5::5', 'trajectory/blocks_5-9.h5::6', 'trajectory/blocks_5-9.h5::7', 'trajectory/blocks_5-9.h5::8', 'trajectory/blocks_5-9.h5::9']\n"
     ]
    }
   ],
   "source": [
    "trajs = list_URIs('trajectory')\n",
    "print(trajs)"
   ]
  },
  {
   "cell_type": "code",
   "execution_count": 4,
   "id": "3d64227c",
   "metadata": {},
   "outputs": [],
   "source": [
    "#TODO: figure out how to extract initial parameters from other h5 files"
   ]
  },
  {
   "cell_type": "code",
   "execution_count": 7,
   "id": "3c4a28ed",
   "metadata": {},
   "outputs": [],
   "source": [
    "data = load_URI(trajs[0])"
   ]
  },
  {
   "cell_type": "code",
   "execution_count": 8,
   "id": "06c1db71",
   "metadata": {},
   "outputs": [
    {
     "data": {
      "text/plain": [
       "{'pos': array([[-0.47, -1.51, -0.37],\n",
       "        [-0.45, -1.95,  0.55],\n",
       "        [ 0.45, -2.32,  0.71],\n",
       "        ...,\n",
       "        [ 2.05, -1.76,  0.76],\n",
       "        [ 1.21, -1.56,  0.26],\n",
       "        [ 0.5 , -1.88, -0.22]], dtype=float32),\n",
       " 'block': 0,\n",
       " 'kineticEnergy': 1.8880411331282307,\n",
       " 'potentialEnergy': 2.5845410077802025,\n",
       " 'time': 6.356380507349968}"
      ]
     },
     "execution_count": 8,
     "metadata": {},
     "output_type": "execute_result"
    }
   ],
   "source": [
    "data"
   ]
  },
  {
   "cell_type": "code",
   "execution_count": 9,
   "id": "82da9135",
   "metadata": {},
   "outputs": [
    {
     "name": "stdout",
     "output_type": "stream",
     "text": [
      "applied_forces_0.h5  blocks_5-9.h5                 initArgs_0.h5\r\n",
      "blocks_0-4.h5        forcekit_polymer_chains_0.h5  starting_conformation_0.h5\r\n"
     ]
    }
   ],
   "source": [
    "ls trajectory"
   ]
  },
  {
   "cell_type": "code",
   "execution_count": 15,
   "id": "7c35efdf",
   "metadata": {},
   "outputs": [
    {
     "data": {
      "text/plain": [
       "10000"
      ]
     },
     "execution_count": 15,
     "metadata": {},
     "output_type": "execute_result"
    }
   ],
   "source": [
    "with h5py.File(\"trajectory/initArgs_0.h5\", 'r') as f:\n",
    "    N = f.attrs['N']\n",
    "N"
   ]
  },
  {
   "cell_type": "code",
   "execution_count": 1,
   "id": "792adfc8",
   "metadata": {},
   "outputs": [
    {
     "name": "stdout",
     "output_type": "stream",
     "text": [
      "applied_forces_0.h5  blocks_400-499.h5  blocks_900-999.h5\r\n",
      "blocks_0-99.h5       blocks_500-599.h5  forcekit_polymer_chains_0.h5\r\n",
      "blocks_100-199.h5    blocks_600-699.h5  initArgs_0.h5\r\n",
      "blocks_200-299.h5    blocks_700-799.h5  starting_conformation_0.h5\r\n",
      "blocks_300-399.h5    blocks_800-899.h5\r\n"
     ]
    }
   ],
   "source": [
    "ls simulations/test_integrator"
   ]
  },
  {
   "cell_type": "code",
   "execution_count": 11,
   "id": "adecabb7",
   "metadata": {},
   "outputs": [
    {
     "name": "stdout",
     "output_type": "stream",
     "text": [
      "['simulations/test_integrator/blocks_0-99.h5::0', 'simulations/test_integrator/blocks_0-99.h5::1', 'simulations/test_integrator/blocks_0-99.h5::2', 'simulations/test_integrator/blocks_0-99.h5::3', 'simulations/test_integrator/blocks_0-99.h5::4', 'simulations/test_integrator/blocks_0-99.h5::5', 'simulations/test_integrator/blocks_0-99.h5::6', 'simulations/test_integrator/blocks_0-99.h5::7', 'simulations/test_integrator/blocks_0-99.h5::8', 'simulations/test_integrator/blocks_0-99.h5::9', 'simulations/test_integrator/blocks_0-99.h5::10', 'simulations/test_integrator/blocks_0-99.h5::11', 'simulations/test_integrator/blocks_0-99.h5::12', 'simulations/test_integrator/blocks_0-99.h5::13', 'simulations/test_integrator/blocks_0-99.h5::14', 'simulations/test_integrator/blocks_0-99.h5::15', 'simulations/test_integrator/blocks_0-99.h5::16', 'simulations/test_integrator/blocks_0-99.h5::17', 'simulations/test_integrator/blocks_0-99.h5::18', 'simulations/test_integrator/blocks_0-99.h5::19', 'simulations/test_integrator/blocks_0-99.h5::20', 'simulations/test_integrator/blocks_0-99.h5::21', 'simulations/test_integrator/blocks_0-99.h5::22', 'simulations/test_integrator/blocks_0-99.h5::23', 'simulations/test_integrator/blocks_0-99.h5::24', 'simulations/test_integrator/blocks_0-99.h5::25', 'simulations/test_integrator/blocks_0-99.h5::26', 'simulations/test_integrator/blocks_0-99.h5::27', 'simulations/test_integrator/blocks_0-99.h5::28', 'simulations/test_integrator/blocks_0-99.h5::29', 'simulations/test_integrator/blocks_0-99.h5::30', 'simulations/test_integrator/blocks_0-99.h5::31', 'simulations/test_integrator/blocks_0-99.h5::32', 'simulations/test_integrator/blocks_0-99.h5::33', 'simulations/test_integrator/blocks_0-99.h5::34', 'simulations/test_integrator/blocks_0-99.h5::35', 'simulations/test_integrator/blocks_0-99.h5::36', 'simulations/test_integrator/blocks_0-99.h5::37', 'simulations/test_integrator/blocks_0-99.h5::38', 'simulations/test_integrator/blocks_0-99.h5::39', 'simulations/test_integrator/blocks_0-99.h5::40', 'simulations/test_integrator/blocks_0-99.h5::41', 'simulations/test_integrator/blocks_0-99.h5::42', 'simulations/test_integrator/blocks_0-99.h5::43', 'simulations/test_integrator/blocks_0-99.h5::44', 'simulations/test_integrator/blocks_0-99.h5::45', 'simulations/test_integrator/blocks_0-99.h5::46', 'simulations/test_integrator/blocks_0-99.h5::47', 'simulations/test_integrator/blocks_0-99.h5::48', 'simulations/test_integrator/blocks_0-99.h5::49', 'simulations/test_integrator/blocks_0-99.h5::50', 'simulations/test_integrator/blocks_0-99.h5::51', 'simulations/test_integrator/blocks_0-99.h5::52', 'simulations/test_integrator/blocks_0-99.h5::53', 'simulations/test_integrator/blocks_0-99.h5::54', 'simulations/test_integrator/blocks_0-99.h5::55', 'simulations/test_integrator/blocks_0-99.h5::56', 'simulations/test_integrator/blocks_0-99.h5::57', 'simulations/test_integrator/blocks_0-99.h5::58', 'simulations/test_integrator/blocks_0-99.h5::59', 'simulations/test_integrator/blocks_0-99.h5::60', 'simulations/test_integrator/blocks_0-99.h5::61', 'simulations/test_integrator/blocks_0-99.h5::62', 'simulations/test_integrator/blocks_0-99.h5::63', 'simulations/test_integrator/blocks_0-99.h5::64', 'simulations/test_integrator/blocks_0-99.h5::65', 'simulations/test_integrator/blocks_0-99.h5::66', 'simulations/test_integrator/blocks_0-99.h5::67', 'simulations/test_integrator/blocks_0-99.h5::68', 'simulations/test_integrator/blocks_0-99.h5::69', 'simulations/test_integrator/blocks_0-99.h5::70', 'simulations/test_integrator/blocks_0-99.h5::71', 'simulations/test_integrator/blocks_0-99.h5::72', 'simulations/test_integrator/blocks_0-99.h5::73', 'simulations/test_integrator/blocks_0-99.h5::74', 'simulations/test_integrator/blocks_0-99.h5::75', 'simulations/test_integrator/blocks_0-99.h5::76', 'simulations/test_integrator/blocks_0-99.h5::77', 'simulations/test_integrator/blocks_0-99.h5::78', 'simulations/test_integrator/blocks_0-99.h5::79', 'simulations/test_integrator/blocks_0-99.h5::80', 'simulations/test_integrator/blocks_0-99.h5::81', 'simulations/test_integrator/blocks_0-99.h5::82', 'simulations/test_integrator/blocks_0-99.h5::83', 'simulations/test_integrator/blocks_0-99.h5::84', 'simulations/test_integrator/blocks_0-99.h5::85', 'simulations/test_integrator/blocks_0-99.h5::86', 'simulations/test_integrator/blocks_0-99.h5::87', 'simulations/test_integrator/blocks_0-99.h5::88', 'simulations/test_integrator/blocks_0-99.h5::89', 'simulations/test_integrator/blocks_0-99.h5::90', 'simulations/test_integrator/blocks_0-99.h5::91', 'simulations/test_integrator/blocks_0-99.h5::92', 'simulations/test_integrator/blocks_0-99.h5::93', 'simulations/test_integrator/blocks_0-99.h5::94', 'simulations/test_integrator/blocks_0-99.h5::95', 'simulations/test_integrator/blocks_0-99.h5::96', 'simulations/test_integrator/blocks_0-99.h5::97', 'simulations/test_integrator/blocks_0-99.h5::98', 'simulations/test_integrator/blocks_0-99.h5::99', 'simulations/test_integrator/blocks_100-199.h5::100', 'simulations/test_integrator/blocks_100-199.h5::101', 'simulations/test_integrator/blocks_100-199.h5::102', 'simulations/test_integrator/blocks_100-199.h5::103', 'simulations/test_integrator/blocks_100-199.h5::104', 'simulations/test_integrator/blocks_100-199.h5::105', 'simulations/test_integrator/blocks_100-199.h5::106', 'simulations/test_integrator/blocks_100-199.h5::107', 'simulations/test_integrator/blocks_100-199.h5::108', 'simulations/test_integrator/blocks_100-199.h5::109', 'simulations/test_integrator/blocks_100-199.h5::110', 'simulations/test_integrator/blocks_100-199.h5::111', 'simulations/test_integrator/blocks_100-199.h5::112', 'simulations/test_integrator/blocks_100-199.h5::113', 'simulations/test_integrator/blocks_100-199.h5::114', 'simulations/test_integrator/blocks_100-199.h5::115', 'simulations/test_integrator/blocks_100-199.h5::116', 'simulations/test_integrator/blocks_100-199.h5::117', 'simulations/test_integrator/blocks_100-199.h5::118', 'simulations/test_integrator/blocks_100-199.h5::119', 'simulations/test_integrator/blocks_100-199.h5::120', 'simulations/test_integrator/blocks_100-199.h5::121', 'simulations/test_integrator/blocks_100-199.h5::122', 'simulations/test_integrator/blocks_100-199.h5::123', 'simulations/test_integrator/blocks_100-199.h5::124', 'simulations/test_integrator/blocks_100-199.h5::125', 'simulations/test_integrator/blocks_100-199.h5::126', 'simulations/test_integrator/blocks_100-199.h5::127', 'simulations/test_integrator/blocks_100-199.h5::128', 'simulations/test_integrator/blocks_100-199.h5::129', 'simulations/test_integrator/blocks_100-199.h5::130', 'simulations/test_integrator/blocks_100-199.h5::131', 'simulations/test_integrator/blocks_100-199.h5::132', 'simulations/test_integrator/blocks_100-199.h5::133', 'simulations/test_integrator/blocks_100-199.h5::134', 'simulations/test_integrator/blocks_100-199.h5::135', 'simulations/test_integrator/blocks_100-199.h5::136', 'simulations/test_integrator/blocks_100-199.h5::137', 'simulations/test_integrator/blocks_100-199.h5::138', 'simulations/test_integrator/blocks_100-199.h5::139', 'simulations/test_integrator/blocks_100-199.h5::140', 'simulations/test_integrator/blocks_100-199.h5::141', 'simulations/test_integrator/blocks_100-199.h5::142', 'simulations/test_integrator/blocks_100-199.h5::143', 'simulations/test_integrator/blocks_100-199.h5::144', 'simulations/test_integrator/blocks_100-199.h5::145', 'simulations/test_integrator/blocks_100-199.h5::146', 'simulations/test_integrator/blocks_100-199.h5::147', 'simulations/test_integrator/blocks_100-199.h5::148', 'simulations/test_integrator/blocks_100-199.h5::149', 'simulations/test_integrator/blocks_100-199.h5::150', 'simulations/test_integrator/blocks_100-199.h5::151', 'simulations/test_integrator/blocks_100-199.h5::152', 'simulations/test_integrator/blocks_100-199.h5::153', 'simulations/test_integrator/blocks_100-199.h5::154', 'simulations/test_integrator/blocks_100-199.h5::155', 'simulations/test_integrator/blocks_100-199.h5::156', 'simulations/test_integrator/blocks_100-199.h5::157', 'simulations/test_integrator/blocks_100-199.h5::158', 'simulations/test_integrator/blocks_100-199.h5::159', 'simulations/test_integrator/blocks_100-199.h5::160', 'simulations/test_integrator/blocks_100-199.h5::161', 'simulations/test_integrator/blocks_100-199.h5::162', 'simulations/test_integrator/blocks_100-199.h5::163', 'simulations/test_integrator/blocks_100-199.h5::164', 'simulations/test_integrator/blocks_100-199.h5::165', 'simulations/test_integrator/blocks_100-199.h5::166', 'simulations/test_integrator/blocks_100-199.h5::167', 'simulations/test_integrator/blocks_100-199.h5::168', 'simulations/test_integrator/blocks_100-199.h5::169', 'simulations/test_integrator/blocks_100-199.h5::170', 'simulations/test_integrator/blocks_100-199.h5::171', 'simulations/test_integrator/blocks_100-199.h5::172', 'simulations/test_integrator/blocks_100-199.h5::173', 'simulations/test_integrator/blocks_100-199.h5::174', 'simulations/test_integrator/blocks_100-199.h5::175', 'simulations/test_integrator/blocks_100-199.h5::176', 'simulations/test_integrator/blocks_100-199.h5::177', 'simulations/test_integrator/blocks_100-199.h5::178', 'simulations/test_integrator/blocks_100-199.h5::179', 'simulations/test_integrator/blocks_100-199.h5::180', 'simulations/test_integrator/blocks_100-199.h5::181', 'simulations/test_integrator/blocks_100-199.h5::182', 'simulations/test_integrator/blocks_100-199.h5::183', 'simulations/test_integrator/blocks_100-199.h5::184', 'simulations/test_integrator/blocks_100-199.h5::185', 'simulations/test_integrator/blocks_100-199.h5::186', 'simulations/test_integrator/blocks_100-199.h5::187', 'simulations/test_integrator/blocks_100-199.h5::188', 'simulations/test_integrator/blocks_100-199.h5::189', 'simulations/test_integrator/blocks_100-199.h5::190', 'simulations/test_integrator/blocks_100-199.h5::191', 'simulations/test_integrator/blocks_100-199.h5::192', 'simulations/test_integrator/blocks_100-199.h5::193', 'simulations/test_integrator/blocks_100-199.h5::194', 'simulations/test_integrator/blocks_100-199.h5::195', 'simulations/test_integrator/blocks_100-199.h5::196', 'simulations/test_integrator/blocks_100-199.h5::197', 'simulations/test_integrator/blocks_100-199.h5::198', 'simulations/test_integrator/blocks_100-199.h5::199', 'simulations/test_integrator/blocks_200-299.h5::200', 'simulations/test_integrator/blocks_200-299.h5::201', 'simulations/test_integrator/blocks_200-299.h5::202', 'simulations/test_integrator/blocks_200-299.h5::203', 'simulations/test_integrator/blocks_200-299.h5::204', 'simulations/test_integrator/blocks_200-299.h5::205', 'simulations/test_integrator/blocks_200-299.h5::206', 'simulations/test_integrator/blocks_200-299.h5::207', 'simulations/test_integrator/blocks_200-299.h5::208', 'simulations/test_integrator/blocks_200-299.h5::209', 'simulations/test_integrator/blocks_200-299.h5::210', 'simulations/test_integrator/blocks_200-299.h5::211', 'simulations/test_integrator/blocks_200-299.h5::212', 'simulations/test_integrator/blocks_200-299.h5::213', 'simulations/test_integrator/blocks_200-299.h5::214', 'simulations/test_integrator/blocks_200-299.h5::215', 'simulations/test_integrator/blocks_200-299.h5::216', 'simulations/test_integrator/blocks_200-299.h5::217', 'simulations/test_integrator/blocks_200-299.h5::218', 'simulations/test_integrator/blocks_200-299.h5::219', 'simulations/test_integrator/blocks_200-299.h5::220', 'simulations/test_integrator/blocks_200-299.h5::221', 'simulations/test_integrator/blocks_200-299.h5::222', 'simulations/test_integrator/blocks_200-299.h5::223', 'simulations/test_integrator/blocks_200-299.h5::224', 'simulations/test_integrator/blocks_200-299.h5::225', 'simulations/test_integrator/blocks_200-299.h5::226', 'simulations/test_integrator/blocks_200-299.h5::227', 'simulations/test_integrator/blocks_200-299.h5::228', 'simulations/test_integrator/blocks_200-299.h5::229', 'simulations/test_integrator/blocks_200-299.h5::230', 'simulations/test_integrator/blocks_200-299.h5::231', 'simulations/test_integrator/blocks_200-299.h5::232', 'simulations/test_integrator/blocks_200-299.h5::233', 'simulations/test_integrator/blocks_200-299.h5::234', 'simulations/test_integrator/blocks_200-299.h5::235', 'simulations/test_integrator/blocks_200-299.h5::236', 'simulations/test_integrator/blocks_200-299.h5::237', 'simulations/test_integrator/blocks_200-299.h5::238', 'simulations/test_integrator/blocks_200-299.h5::239', 'simulations/test_integrator/blocks_200-299.h5::240', 'simulations/test_integrator/blocks_200-299.h5::241', 'simulations/test_integrator/blocks_200-299.h5::242', 'simulations/test_integrator/blocks_200-299.h5::243', 'simulations/test_integrator/blocks_200-299.h5::244', 'simulations/test_integrator/blocks_200-299.h5::245', 'simulations/test_integrator/blocks_200-299.h5::246', 'simulations/test_integrator/blocks_200-299.h5::247', 'simulations/test_integrator/blocks_200-299.h5::248', 'simulations/test_integrator/blocks_200-299.h5::249', 'simulations/test_integrator/blocks_200-299.h5::250', 'simulations/test_integrator/blocks_200-299.h5::251', 'simulations/test_integrator/blocks_200-299.h5::252', 'simulations/test_integrator/blocks_200-299.h5::253', 'simulations/test_integrator/blocks_200-299.h5::254', 'simulations/test_integrator/blocks_200-299.h5::255', 'simulations/test_integrator/blocks_200-299.h5::256', 'simulations/test_integrator/blocks_200-299.h5::257', 'simulations/test_integrator/blocks_200-299.h5::258', 'simulations/test_integrator/blocks_200-299.h5::259', 'simulations/test_integrator/blocks_200-299.h5::260', 'simulations/test_integrator/blocks_200-299.h5::261', 'simulations/test_integrator/blocks_200-299.h5::262', 'simulations/test_integrator/blocks_200-299.h5::263', 'simulations/test_integrator/blocks_200-299.h5::264', 'simulations/test_integrator/blocks_200-299.h5::265', 'simulations/test_integrator/blocks_200-299.h5::266', 'simulations/test_integrator/blocks_200-299.h5::267', 'simulations/test_integrator/blocks_200-299.h5::268', 'simulations/test_integrator/blocks_200-299.h5::269', 'simulations/test_integrator/blocks_200-299.h5::270', 'simulations/test_integrator/blocks_200-299.h5::271', 'simulations/test_integrator/blocks_200-299.h5::272', 'simulations/test_integrator/blocks_200-299.h5::273', 'simulations/test_integrator/blocks_200-299.h5::274', 'simulations/test_integrator/blocks_200-299.h5::275', 'simulations/test_integrator/blocks_200-299.h5::276', 'simulations/test_integrator/blocks_200-299.h5::277', 'simulations/test_integrator/blocks_200-299.h5::278', 'simulations/test_integrator/blocks_200-299.h5::279', 'simulations/test_integrator/blocks_200-299.h5::280', 'simulations/test_integrator/blocks_200-299.h5::281', 'simulations/test_integrator/blocks_200-299.h5::282', 'simulations/test_integrator/blocks_200-299.h5::283', 'simulations/test_integrator/blocks_200-299.h5::284', 'simulations/test_integrator/blocks_200-299.h5::285', 'simulations/test_integrator/blocks_200-299.h5::286', 'simulations/test_integrator/blocks_200-299.h5::287', 'simulations/test_integrator/blocks_200-299.h5::288', 'simulations/test_integrator/blocks_200-299.h5::289', 'simulations/test_integrator/blocks_200-299.h5::290', 'simulations/test_integrator/blocks_200-299.h5::291', 'simulations/test_integrator/blocks_200-299.h5::292', 'simulations/test_integrator/blocks_200-299.h5::293', 'simulations/test_integrator/blocks_200-299.h5::294', 'simulations/test_integrator/blocks_200-299.h5::295', 'simulations/test_integrator/blocks_200-299.h5::296', 'simulations/test_integrator/blocks_200-299.h5::297', 'simulations/test_integrator/blocks_200-299.h5::298', 'simulations/test_integrator/blocks_200-299.h5::299', 'simulations/test_integrator/blocks_300-399.h5::300', 'simulations/test_integrator/blocks_300-399.h5::301', 'simulations/test_integrator/blocks_300-399.h5::302', 'simulations/test_integrator/blocks_300-399.h5::303', 'simulations/test_integrator/blocks_300-399.h5::304', 'simulations/test_integrator/blocks_300-399.h5::305', 'simulations/test_integrator/blocks_300-399.h5::306', 'simulations/test_integrator/blocks_300-399.h5::307', 'simulations/test_integrator/blocks_300-399.h5::308', 'simulations/test_integrator/blocks_300-399.h5::309', 'simulations/test_integrator/blocks_300-399.h5::310', 'simulations/test_integrator/blocks_300-399.h5::311', 'simulations/test_integrator/blocks_300-399.h5::312', 'simulations/test_integrator/blocks_300-399.h5::313', 'simulations/test_integrator/blocks_300-399.h5::314', 'simulations/test_integrator/blocks_300-399.h5::315', 'simulations/test_integrator/blocks_300-399.h5::316', 'simulations/test_integrator/blocks_300-399.h5::317', 'simulations/test_integrator/blocks_300-399.h5::318', 'simulations/test_integrator/blocks_300-399.h5::319', 'simulations/test_integrator/blocks_300-399.h5::320', 'simulations/test_integrator/blocks_300-399.h5::321', 'simulations/test_integrator/blocks_300-399.h5::322', 'simulations/test_integrator/blocks_300-399.h5::323', 'simulations/test_integrator/blocks_300-399.h5::324', 'simulations/test_integrator/blocks_300-399.h5::325', 'simulations/test_integrator/blocks_300-399.h5::326', 'simulations/test_integrator/blocks_300-399.h5::327', 'simulations/test_integrator/blocks_300-399.h5::328', 'simulations/test_integrator/blocks_300-399.h5::329', 'simulations/test_integrator/blocks_300-399.h5::330', 'simulations/test_integrator/blocks_300-399.h5::331', 'simulations/test_integrator/blocks_300-399.h5::332', 'simulations/test_integrator/blocks_300-399.h5::333', 'simulations/test_integrator/blocks_300-399.h5::334', 'simulations/test_integrator/blocks_300-399.h5::335', 'simulations/test_integrator/blocks_300-399.h5::336', 'simulations/test_integrator/blocks_300-399.h5::337', 'simulations/test_integrator/blocks_300-399.h5::338', 'simulations/test_integrator/blocks_300-399.h5::339', 'simulations/test_integrator/blocks_300-399.h5::340', 'simulations/test_integrator/blocks_300-399.h5::341', 'simulations/test_integrator/blocks_300-399.h5::342', 'simulations/test_integrator/blocks_300-399.h5::343', 'simulations/test_integrator/blocks_300-399.h5::344', 'simulations/test_integrator/blocks_300-399.h5::345', 'simulations/test_integrator/blocks_300-399.h5::346', 'simulations/test_integrator/blocks_300-399.h5::347', 'simulations/test_integrator/blocks_300-399.h5::348', 'simulations/test_integrator/blocks_300-399.h5::349', 'simulations/test_integrator/blocks_300-399.h5::350', 'simulations/test_integrator/blocks_300-399.h5::351', 'simulations/test_integrator/blocks_300-399.h5::352', 'simulations/test_integrator/blocks_300-399.h5::353', 'simulations/test_integrator/blocks_300-399.h5::354', 'simulations/test_integrator/blocks_300-399.h5::355', 'simulations/test_integrator/blocks_300-399.h5::356', 'simulations/test_integrator/blocks_300-399.h5::357', 'simulations/test_integrator/blocks_300-399.h5::358', 'simulations/test_integrator/blocks_300-399.h5::359', 'simulations/test_integrator/blocks_300-399.h5::360', 'simulations/test_integrator/blocks_300-399.h5::361', 'simulations/test_integrator/blocks_300-399.h5::362', 'simulations/test_integrator/blocks_300-399.h5::363', 'simulations/test_integrator/blocks_300-399.h5::364', 'simulations/test_integrator/blocks_300-399.h5::365', 'simulations/test_integrator/blocks_300-399.h5::366', 'simulations/test_integrator/blocks_300-399.h5::367', 'simulations/test_integrator/blocks_300-399.h5::368', 'simulations/test_integrator/blocks_300-399.h5::369', 'simulations/test_integrator/blocks_300-399.h5::370', 'simulations/test_integrator/blocks_300-399.h5::371', 'simulations/test_integrator/blocks_300-399.h5::372', 'simulations/test_integrator/blocks_300-399.h5::373', 'simulations/test_integrator/blocks_300-399.h5::374', 'simulations/test_integrator/blocks_300-399.h5::375', 'simulations/test_integrator/blocks_300-399.h5::376', 'simulations/test_integrator/blocks_300-399.h5::377', 'simulations/test_integrator/blocks_300-399.h5::378', 'simulations/test_integrator/blocks_300-399.h5::379', 'simulations/test_integrator/blocks_300-399.h5::380', 'simulations/test_integrator/blocks_300-399.h5::381', 'simulations/test_integrator/blocks_300-399.h5::382', 'simulations/test_integrator/blocks_300-399.h5::383', 'simulations/test_integrator/blocks_300-399.h5::384', 'simulations/test_integrator/blocks_300-399.h5::385', 'simulations/test_integrator/blocks_300-399.h5::386', 'simulations/test_integrator/blocks_300-399.h5::387', 'simulations/test_integrator/blocks_300-399.h5::388', 'simulations/test_integrator/blocks_300-399.h5::389', 'simulations/test_integrator/blocks_300-399.h5::390', 'simulations/test_integrator/blocks_300-399.h5::391', 'simulations/test_integrator/blocks_300-399.h5::392', 'simulations/test_integrator/blocks_300-399.h5::393', 'simulations/test_integrator/blocks_300-399.h5::394', 'simulations/test_integrator/blocks_300-399.h5::395', 'simulations/test_integrator/blocks_300-399.h5::396', 'simulations/test_integrator/blocks_300-399.h5::397', 'simulations/test_integrator/blocks_300-399.h5::398', 'simulations/test_integrator/blocks_300-399.h5::399', 'simulations/test_integrator/blocks_400-499.h5::400', 'simulations/test_integrator/blocks_400-499.h5::401', 'simulations/test_integrator/blocks_400-499.h5::402', 'simulations/test_integrator/blocks_400-499.h5::403', 'simulations/test_integrator/blocks_400-499.h5::404', 'simulations/test_integrator/blocks_400-499.h5::405', 'simulations/test_integrator/blocks_400-499.h5::406', 'simulations/test_integrator/blocks_400-499.h5::407', 'simulations/test_integrator/blocks_400-499.h5::408', 'simulations/test_integrator/blocks_400-499.h5::409', 'simulations/test_integrator/blocks_400-499.h5::410', 'simulations/test_integrator/blocks_400-499.h5::411', 'simulations/test_integrator/blocks_400-499.h5::412', 'simulations/test_integrator/blocks_400-499.h5::413', 'simulations/test_integrator/blocks_400-499.h5::414', 'simulations/test_integrator/blocks_400-499.h5::415', 'simulations/test_integrator/blocks_400-499.h5::416', 'simulations/test_integrator/blocks_400-499.h5::417', 'simulations/test_integrator/blocks_400-499.h5::418', 'simulations/test_integrator/blocks_400-499.h5::419', 'simulations/test_integrator/blocks_400-499.h5::420', 'simulations/test_integrator/blocks_400-499.h5::421', 'simulations/test_integrator/blocks_400-499.h5::422', 'simulations/test_integrator/blocks_400-499.h5::423', 'simulations/test_integrator/blocks_400-499.h5::424', 'simulations/test_integrator/blocks_400-499.h5::425', 'simulations/test_integrator/blocks_400-499.h5::426', 'simulations/test_integrator/blocks_400-499.h5::427', 'simulations/test_integrator/blocks_400-499.h5::428', 'simulations/test_integrator/blocks_400-499.h5::429', 'simulations/test_integrator/blocks_400-499.h5::430', 'simulations/test_integrator/blocks_400-499.h5::431', 'simulations/test_integrator/blocks_400-499.h5::432', 'simulations/test_integrator/blocks_400-499.h5::433', 'simulations/test_integrator/blocks_400-499.h5::434', 'simulations/test_integrator/blocks_400-499.h5::435', 'simulations/test_integrator/blocks_400-499.h5::436', 'simulations/test_integrator/blocks_400-499.h5::437', 'simulations/test_integrator/blocks_400-499.h5::438', 'simulations/test_integrator/blocks_400-499.h5::439', 'simulations/test_integrator/blocks_400-499.h5::440', 'simulations/test_integrator/blocks_400-499.h5::441', 'simulations/test_integrator/blocks_400-499.h5::442', 'simulations/test_integrator/blocks_400-499.h5::443', 'simulations/test_integrator/blocks_400-499.h5::444', 'simulations/test_integrator/blocks_400-499.h5::445', 'simulations/test_integrator/blocks_400-499.h5::446', 'simulations/test_integrator/blocks_400-499.h5::447', 'simulations/test_integrator/blocks_400-499.h5::448', 'simulations/test_integrator/blocks_400-499.h5::449', 'simulations/test_integrator/blocks_400-499.h5::450', 'simulations/test_integrator/blocks_400-499.h5::451', 'simulations/test_integrator/blocks_400-499.h5::452', 'simulations/test_integrator/blocks_400-499.h5::453', 'simulations/test_integrator/blocks_400-499.h5::454', 'simulations/test_integrator/blocks_400-499.h5::455', 'simulations/test_integrator/blocks_400-499.h5::456', 'simulations/test_integrator/blocks_400-499.h5::457', 'simulations/test_integrator/blocks_400-499.h5::458', 'simulations/test_integrator/blocks_400-499.h5::459', 'simulations/test_integrator/blocks_400-499.h5::460', 'simulations/test_integrator/blocks_400-499.h5::461', 'simulations/test_integrator/blocks_400-499.h5::462', 'simulations/test_integrator/blocks_400-499.h5::463', 'simulations/test_integrator/blocks_400-499.h5::464', 'simulations/test_integrator/blocks_400-499.h5::465', 'simulations/test_integrator/blocks_400-499.h5::466', 'simulations/test_integrator/blocks_400-499.h5::467', 'simulations/test_integrator/blocks_400-499.h5::468', 'simulations/test_integrator/blocks_400-499.h5::469', 'simulations/test_integrator/blocks_400-499.h5::470', 'simulations/test_integrator/blocks_400-499.h5::471', 'simulations/test_integrator/blocks_400-499.h5::472', 'simulations/test_integrator/blocks_400-499.h5::473', 'simulations/test_integrator/blocks_400-499.h5::474', 'simulations/test_integrator/blocks_400-499.h5::475', 'simulations/test_integrator/blocks_400-499.h5::476', 'simulations/test_integrator/blocks_400-499.h5::477', 'simulations/test_integrator/blocks_400-499.h5::478', 'simulations/test_integrator/blocks_400-499.h5::479', 'simulations/test_integrator/blocks_400-499.h5::480', 'simulations/test_integrator/blocks_400-499.h5::481', 'simulations/test_integrator/blocks_400-499.h5::482', 'simulations/test_integrator/blocks_400-499.h5::483', 'simulations/test_integrator/blocks_400-499.h5::484', 'simulations/test_integrator/blocks_400-499.h5::485', 'simulations/test_integrator/blocks_400-499.h5::486', 'simulations/test_integrator/blocks_400-499.h5::487', 'simulations/test_integrator/blocks_400-499.h5::488', 'simulations/test_integrator/blocks_400-499.h5::489', 'simulations/test_integrator/blocks_400-499.h5::490', 'simulations/test_integrator/blocks_400-499.h5::491', 'simulations/test_integrator/blocks_400-499.h5::492', 'simulations/test_integrator/blocks_400-499.h5::493', 'simulations/test_integrator/blocks_400-499.h5::494', 'simulations/test_integrator/blocks_400-499.h5::495', 'simulations/test_integrator/blocks_400-499.h5::496', 'simulations/test_integrator/blocks_400-499.h5::497', 'simulations/test_integrator/blocks_400-499.h5::498', 'simulations/test_integrator/blocks_400-499.h5::499', 'simulations/test_integrator/blocks_500-599.h5::500', 'simulations/test_integrator/blocks_500-599.h5::501', 'simulations/test_integrator/blocks_500-599.h5::502', 'simulations/test_integrator/blocks_500-599.h5::503', 'simulations/test_integrator/blocks_500-599.h5::504', 'simulations/test_integrator/blocks_500-599.h5::505', 'simulations/test_integrator/blocks_500-599.h5::506', 'simulations/test_integrator/blocks_500-599.h5::507', 'simulations/test_integrator/blocks_500-599.h5::508', 'simulations/test_integrator/blocks_500-599.h5::509', 'simulations/test_integrator/blocks_500-599.h5::510', 'simulations/test_integrator/blocks_500-599.h5::511', 'simulations/test_integrator/blocks_500-599.h5::512', 'simulations/test_integrator/blocks_500-599.h5::513', 'simulations/test_integrator/blocks_500-599.h5::514', 'simulations/test_integrator/blocks_500-599.h5::515', 'simulations/test_integrator/blocks_500-599.h5::516', 'simulations/test_integrator/blocks_500-599.h5::517', 'simulations/test_integrator/blocks_500-599.h5::518', 'simulations/test_integrator/blocks_500-599.h5::519', 'simulations/test_integrator/blocks_500-599.h5::520', 'simulations/test_integrator/blocks_500-599.h5::521', 'simulations/test_integrator/blocks_500-599.h5::522', 'simulations/test_integrator/blocks_500-599.h5::523', 'simulations/test_integrator/blocks_500-599.h5::524', 'simulations/test_integrator/blocks_500-599.h5::525', 'simulations/test_integrator/blocks_500-599.h5::526', 'simulations/test_integrator/blocks_500-599.h5::527', 'simulations/test_integrator/blocks_500-599.h5::528', 'simulations/test_integrator/blocks_500-599.h5::529', 'simulations/test_integrator/blocks_500-599.h5::530', 'simulations/test_integrator/blocks_500-599.h5::531', 'simulations/test_integrator/blocks_500-599.h5::532', 'simulations/test_integrator/blocks_500-599.h5::533', 'simulations/test_integrator/blocks_500-599.h5::534', 'simulations/test_integrator/blocks_500-599.h5::535', 'simulations/test_integrator/blocks_500-599.h5::536', 'simulations/test_integrator/blocks_500-599.h5::537', 'simulations/test_integrator/blocks_500-599.h5::538', 'simulations/test_integrator/blocks_500-599.h5::539', 'simulations/test_integrator/blocks_500-599.h5::540', 'simulations/test_integrator/blocks_500-599.h5::541', 'simulations/test_integrator/blocks_500-599.h5::542', 'simulations/test_integrator/blocks_500-599.h5::543', 'simulations/test_integrator/blocks_500-599.h5::544', 'simulations/test_integrator/blocks_500-599.h5::545', 'simulations/test_integrator/blocks_500-599.h5::546', 'simulations/test_integrator/blocks_500-599.h5::547', 'simulations/test_integrator/blocks_500-599.h5::548', 'simulations/test_integrator/blocks_500-599.h5::549', 'simulations/test_integrator/blocks_500-599.h5::550', 'simulations/test_integrator/blocks_500-599.h5::551', 'simulations/test_integrator/blocks_500-599.h5::552', 'simulations/test_integrator/blocks_500-599.h5::553', 'simulations/test_integrator/blocks_500-599.h5::554', 'simulations/test_integrator/blocks_500-599.h5::555', 'simulations/test_integrator/blocks_500-599.h5::556', 'simulations/test_integrator/blocks_500-599.h5::557', 'simulations/test_integrator/blocks_500-599.h5::558', 'simulations/test_integrator/blocks_500-599.h5::559', 'simulations/test_integrator/blocks_500-599.h5::560', 'simulations/test_integrator/blocks_500-599.h5::561', 'simulations/test_integrator/blocks_500-599.h5::562', 'simulations/test_integrator/blocks_500-599.h5::563', 'simulations/test_integrator/blocks_500-599.h5::564', 'simulations/test_integrator/blocks_500-599.h5::565', 'simulations/test_integrator/blocks_500-599.h5::566', 'simulations/test_integrator/blocks_500-599.h5::567', 'simulations/test_integrator/blocks_500-599.h5::568', 'simulations/test_integrator/blocks_500-599.h5::569', 'simulations/test_integrator/blocks_500-599.h5::570', 'simulations/test_integrator/blocks_500-599.h5::571', 'simulations/test_integrator/blocks_500-599.h5::572', 'simulations/test_integrator/blocks_500-599.h5::573', 'simulations/test_integrator/blocks_500-599.h5::574', 'simulations/test_integrator/blocks_500-599.h5::575', 'simulations/test_integrator/blocks_500-599.h5::576', 'simulations/test_integrator/blocks_500-599.h5::577', 'simulations/test_integrator/blocks_500-599.h5::578', 'simulations/test_integrator/blocks_500-599.h5::579', 'simulations/test_integrator/blocks_500-599.h5::580', 'simulations/test_integrator/blocks_500-599.h5::581', 'simulations/test_integrator/blocks_500-599.h5::582', 'simulations/test_integrator/blocks_500-599.h5::583', 'simulations/test_integrator/blocks_500-599.h5::584', 'simulations/test_integrator/blocks_500-599.h5::585', 'simulations/test_integrator/blocks_500-599.h5::586', 'simulations/test_integrator/blocks_500-599.h5::587', 'simulations/test_integrator/blocks_500-599.h5::588', 'simulations/test_integrator/blocks_500-599.h5::589', 'simulations/test_integrator/blocks_500-599.h5::590', 'simulations/test_integrator/blocks_500-599.h5::591', 'simulations/test_integrator/blocks_500-599.h5::592', 'simulations/test_integrator/blocks_500-599.h5::593', 'simulations/test_integrator/blocks_500-599.h5::594', 'simulations/test_integrator/blocks_500-599.h5::595', 'simulations/test_integrator/blocks_500-599.h5::596', 'simulations/test_integrator/blocks_500-599.h5::597', 'simulations/test_integrator/blocks_500-599.h5::598', 'simulations/test_integrator/blocks_500-599.h5::599', 'simulations/test_integrator/blocks_600-699.h5::600', 'simulations/test_integrator/blocks_600-699.h5::601', 'simulations/test_integrator/blocks_600-699.h5::602', 'simulations/test_integrator/blocks_600-699.h5::603', 'simulations/test_integrator/blocks_600-699.h5::604', 'simulations/test_integrator/blocks_600-699.h5::605', 'simulations/test_integrator/blocks_600-699.h5::606', 'simulations/test_integrator/blocks_600-699.h5::607', 'simulations/test_integrator/blocks_600-699.h5::608', 'simulations/test_integrator/blocks_600-699.h5::609', 'simulations/test_integrator/blocks_600-699.h5::610', 'simulations/test_integrator/blocks_600-699.h5::611', 'simulations/test_integrator/blocks_600-699.h5::612', 'simulations/test_integrator/blocks_600-699.h5::613', 'simulations/test_integrator/blocks_600-699.h5::614', 'simulations/test_integrator/blocks_600-699.h5::615', 'simulations/test_integrator/blocks_600-699.h5::616', 'simulations/test_integrator/blocks_600-699.h5::617', 'simulations/test_integrator/blocks_600-699.h5::618', 'simulations/test_integrator/blocks_600-699.h5::619', 'simulations/test_integrator/blocks_600-699.h5::620', 'simulations/test_integrator/blocks_600-699.h5::621', 'simulations/test_integrator/blocks_600-699.h5::622', 'simulations/test_integrator/blocks_600-699.h5::623', 'simulations/test_integrator/blocks_600-699.h5::624', 'simulations/test_integrator/blocks_600-699.h5::625', 'simulations/test_integrator/blocks_600-699.h5::626', 'simulations/test_integrator/blocks_600-699.h5::627', 'simulations/test_integrator/blocks_600-699.h5::628', 'simulations/test_integrator/blocks_600-699.h5::629', 'simulations/test_integrator/blocks_600-699.h5::630', 'simulations/test_integrator/blocks_600-699.h5::631', 'simulations/test_integrator/blocks_600-699.h5::632', 'simulations/test_integrator/blocks_600-699.h5::633', 'simulations/test_integrator/blocks_600-699.h5::634', 'simulations/test_integrator/blocks_600-699.h5::635', 'simulations/test_integrator/blocks_600-699.h5::636', 'simulations/test_integrator/blocks_600-699.h5::637', 'simulations/test_integrator/blocks_600-699.h5::638', 'simulations/test_integrator/blocks_600-699.h5::639', 'simulations/test_integrator/blocks_600-699.h5::640', 'simulations/test_integrator/blocks_600-699.h5::641', 'simulations/test_integrator/blocks_600-699.h5::642', 'simulations/test_integrator/blocks_600-699.h5::643', 'simulations/test_integrator/blocks_600-699.h5::644', 'simulations/test_integrator/blocks_600-699.h5::645', 'simulations/test_integrator/blocks_600-699.h5::646', 'simulations/test_integrator/blocks_600-699.h5::647', 'simulations/test_integrator/blocks_600-699.h5::648', 'simulations/test_integrator/blocks_600-699.h5::649', 'simulations/test_integrator/blocks_600-699.h5::650', 'simulations/test_integrator/blocks_600-699.h5::651', 'simulations/test_integrator/blocks_600-699.h5::652', 'simulations/test_integrator/blocks_600-699.h5::653', 'simulations/test_integrator/blocks_600-699.h5::654', 'simulations/test_integrator/blocks_600-699.h5::655', 'simulations/test_integrator/blocks_600-699.h5::656', 'simulations/test_integrator/blocks_600-699.h5::657', 'simulations/test_integrator/blocks_600-699.h5::658', 'simulations/test_integrator/blocks_600-699.h5::659', 'simulations/test_integrator/blocks_600-699.h5::660', 'simulations/test_integrator/blocks_600-699.h5::661', 'simulations/test_integrator/blocks_600-699.h5::662', 'simulations/test_integrator/blocks_600-699.h5::663', 'simulations/test_integrator/blocks_600-699.h5::664', 'simulations/test_integrator/blocks_600-699.h5::665', 'simulations/test_integrator/blocks_600-699.h5::666', 'simulations/test_integrator/blocks_600-699.h5::667', 'simulations/test_integrator/blocks_600-699.h5::668', 'simulations/test_integrator/blocks_600-699.h5::669', 'simulations/test_integrator/blocks_600-699.h5::670', 'simulations/test_integrator/blocks_600-699.h5::671', 'simulations/test_integrator/blocks_600-699.h5::672', 'simulations/test_integrator/blocks_600-699.h5::673', 'simulations/test_integrator/blocks_600-699.h5::674', 'simulations/test_integrator/blocks_600-699.h5::675', 'simulations/test_integrator/blocks_600-699.h5::676', 'simulations/test_integrator/blocks_600-699.h5::677', 'simulations/test_integrator/blocks_600-699.h5::678', 'simulations/test_integrator/blocks_600-699.h5::679', 'simulations/test_integrator/blocks_600-699.h5::680', 'simulations/test_integrator/blocks_600-699.h5::681', 'simulations/test_integrator/blocks_600-699.h5::682', 'simulations/test_integrator/blocks_600-699.h5::683', 'simulations/test_integrator/blocks_600-699.h5::684', 'simulations/test_integrator/blocks_600-699.h5::685', 'simulations/test_integrator/blocks_600-699.h5::686', 'simulations/test_integrator/blocks_600-699.h5::687', 'simulations/test_integrator/blocks_600-699.h5::688', 'simulations/test_integrator/blocks_600-699.h5::689', 'simulations/test_integrator/blocks_600-699.h5::690', 'simulations/test_integrator/blocks_600-699.h5::691', 'simulations/test_integrator/blocks_600-699.h5::692', 'simulations/test_integrator/blocks_600-699.h5::693', 'simulations/test_integrator/blocks_600-699.h5::694', 'simulations/test_integrator/blocks_600-699.h5::695', 'simulations/test_integrator/blocks_600-699.h5::696', 'simulations/test_integrator/blocks_600-699.h5::697', 'simulations/test_integrator/blocks_600-699.h5::698', 'simulations/test_integrator/blocks_600-699.h5::699', 'simulations/test_integrator/blocks_700-799.h5::700', 'simulations/test_integrator/blocks_700-799.h5::701', 'simulations/test_integrator/blocks_700-799.h5::702', 'simulations/test_integrator/blocks_700-799.h5::703', 'simulations/test_integrator/blocks_700-799.h5::704', 'simulations/test_integrator/blocks_700-799.h5::705', 'simulations/test_integrator/blocks_700-799.h5::706', 'simulations/test_integrator/blocks_700-799.h5::707', 'simulations/test_integrator/blocks_700-799.h5::708', 'simulations/test_integrator/blocks_700-799.h5::709', 'simulations/test_integrator/blocks_700-799.h5::710', 'simulations/test_integrator/blocks_700-799.h5::711', 'simulations/test_integrator/blocks_700-799.h5::712', 'simulations/test_integrator/blocks_700-799.h5::713', 'simulations/test_integrator/blocks_700-799.h5::714', 'simulations/test_integrator/blocks_700-799.h5::715', 'simulations/test_integrator/blocks_700-799.h5::716', 'simulations/test_integrator/blocks_700-799.h5::717', 'simulations/test_integrator/blocks_700-799.h5::718', 'simulations/test_integrator/blocks_700-799.h5::719', 'simulations/test_integrator/blocks_700-799.h5::720', 'simulations/test_integrator/blocks_700-799.h5::721', 'simulations/test_integrator/blocks_700-799.h5::722', 'simulations/test_integrator/blocks_700-799.h5::723', 'simulations/test_integrator/blocks_700-799.h5::724', 'simulations/test_integrator/blocks_700-799.h5::725', 'simulations/test_integrator/blocks_700-799.h5::726', 'simulations/test_integrator/blocks_700-799.h5::727', 'simulations/test_integrator/blocks_700-799.h5::728', 'simulations/test_integrator/blocks_700-799.h5::729', 'simulations/test_integrator/blocks_700-799.h5::730', 'simulations/test_integrator/blocks_700-799.h5::731', 'simulations/test_integrator/blocks_700-799.h5::732', 'simulations/test_integrator/blocks_700-799.h5::733', 'simulations/test_integrator/blocks_700-799.h5::734', 'simulations/test_integrator/blocks_700-799.h5::735', 'simulations/test_integrator/blocks_700-799.h5::736', 'simulations/test_integrator/blocks_700-799.h5::737', 'simulations/test_integrator/blocks_700-799.h5::738', 'simulations/test_integrator/blocks_700-799.h5::739', 'simulations/test_integrator/blocks_700-799.h5::740', 'simulations/test_integrator/blocks_700-799.h5::741', 'simulations/test_integrator/blocks_700-799.h5::742', 'simulations/test_integrator/blocks_700-799.h5::743', 'simulations/test_integrator/blocks_700-799.h5::744', 'simulations/test_integrator/blocks_700-799.h5::745', 'simulations/test_integrator/blocks_700-799.h5::746', 'simulations/test_integrator/blocks_700-799.h5::747', 'simulations/test_integrator/blocks_700-799.h5::748', 'simulations/test_integrator/blocks_700-799.h5::749', 'simulations/test_integrator/blocks_700-799.h5::750', 'simulations/test_integrator/blocks_700-799.h5::751', 'simulations/test_integrator/blocks_700-799.h5::752', 'simulations/test_integrator/blocks_700-799.h5::753', 'simulations/test_integrator/blocks_700-799.h5::754', 'simulations/test_integrator/blocks_700-799.h5::755', 'simulations/test_integrator/blocks_700-799.h5::756', 'simulations/test_integrator/blocks_700-799.h5::757', 'simulations/test_integrator/blocks_700-799.h5::758', 'simulations/test_integrator/blocks_700-799.h5::759', 'simulations/test_integrator/blocks_700-799.h5::760', 'simulations/test_integrator/blocks_700-799.h5::761', 'simulations/test_integrator/blocks_700-799.h5::762', 'simulations/test_integrator/blocks_700-799.h5::763', 'simulations/test_integrator/blocks_700-799.h5::764', 'simulations/test_integrator/blocks_700-799.h5::765', 'simulations/test_integrator/blocks_700-799.h5::766', 'simulations/test_integrator/blocks_700-799.h5::767', 'simulations/test_integrator/blocks_700-799.h5::768', 'simulations/test_integrator/blocks_700-799.h5::769', 'simulations/test_integrator/blocks_700-799.h5::770', 'simulations/test_integrator/blocks_700-799.h5::771', 'simulations/test_integrator/blocks_700-799.h5::772', 'simulations/test_integrator/blocks_700-799.h5::773', 'simulations/test_integrator/blocks_700-799.h5::774', 'simulations/test_integrator/blocks_700-799.h5::775', 'simulations/test_integrator/blocks_700-799.h5::776', 'simulations/test_integrator/blocks_700-799.h5::777', 'simulations/test_integrator/blocks_700-799.h5::778', 'simulations/test_integrator/blocks_700-799.h5::779', 'simulations/test_integrator/blocks_700-799.h5::780', 'simulations/test_integrator/blocks_700-799.h5::781', 'simulations/test_integrator/blocks_700-799.h5::782', 'simulations/test_integrator/blocks_700-799.h5::783', 'simulations/test_integrator/blocks_700-799.h5::784', 'simulations/test_integrator/blocks_700-799.h5::785', 'simulations/test_integrator/blocks_700-799.h5::786', 'simulations/test_integrator/blocks_700-799.h5::787', 'simulations/test_integrator/blocks_700-799.h5::788', 'simulations/test_integrator/blocks_700-799.h5::789', 'simulations/test_integrator/blocks_700-799.h5::790', 'simulations/test_integrator/blocks_700-799.h5::791', 'simulations/test_integrator/blocks_700-799.h5::792', 'simulations/test_integrator/blocks_700-799.h5::793', 'simulations/test_integrator/blocks_700-799.h5::794', 'simulations/test_integrator/blocks_700-799.h5::795', 'simulations/test_integrator/blocks_700-799.h5::796', 'simulations/test_integrator/blocks_700-799.h5::797', 'simulations/test_integrator/blocks_700-799.h5::798', 'simulations/test_integrator/blocks_700-799.h5::799', 'simulations/test_integrator/blocks_800-899.h5::800', 'simulations/test_integrator/blocks_800-899.h5::801', 'simulations/test_integrator/blocks_800-899.h5::802', 'simulations/test_integrator/blocks_800-899.h5::803', 'simulations/test_integrator/blocks_800-899.h5::804', 'simulations/test_integrator/blocks_800-899.h5::805', 'simulations/test_integrator/blocks_800-899.h5::806', 'simulations/test_integrator/blocks_800-899.h5::807', 'simulations/test_integrator/blocks_800-899.h5::808', 'simulations/test_integrator/blocks_800-899.h5::809', 'simulations/test_integrator/blocks_800-899.h5::810', 'simulations/test_integrator/blocks_800-899.h5::811', 'simulations/test_integrator/blocks_800-899.h5::812', 'simulations/test_integrator/blocks_800-899.h5::813', 'simulations/test_integrator/blocks_800-899.h5::814', 'simulations/test_integrator/blocks_800-899.h5::815', 'simulations/test_integrator/blocks_800-899.h5::816', 'simulations/test_integrator/blocks_800-899.h5::817', 'simulations/test_integrator/blocks_800-899.h5::818', 'simulations/test_integrator/blocks_800-899.h5::819', 'simulations/test_integrator/blocks_800-899.h5::820', 'simulations/test_integrator/blocks_800-899.h5::821', 'simulations/test_integrator/blocks_800-899.h5::822', 'simulations/test_integrator/blocks_800-899.h5::823', 'simulations/test_integrator/blocks_800-899.h5::824', 'simulations/test_integrator/blocks_800-899.h5::825', 'simulations/test_integrator/blocks_800-899.h5::826', 'simulations/test_integrator/blocks_800-899.h5::827', 'simulations/test_integrator/blocks_800-899.h5::828', 'simulations/test_integrator/blocks_800-899.h5::829', 'simulations/test_integrator/blocks_800-899.h5::830', 'simulations/test_integrator/blocks_800-899.h5::831', 'simulations/test_integrator/blocks_800-899.h5::832', 'simulations/test_integrator/blocks_800-899.h5::833', 'simulations/test_integrator/blocks_800-899.h5::834', 'simulations/test_integrator/blocks_800-899.h5::835', 'simulations/test_integrator/blocks_800-899.h5::836', 'simulations/test_integrator/blocks_800-899.h5::837', 'simulations/test_integrator/blocks_800-899.h5::838', 'simulations/test_integrator/blocks_800-899.h5::839', 'simulations/test_integrator/blocks_800-899.h5::840', 'simulations/test_integrator/blocks_800-899.h5::841', 'simulations/test_integrator/blocks_800-899.h5::842', 'simulations/test_integrator/blocks_800-899.h5::843', 'simulations/test_integrator/blocks_800-899.h5::844', 'simulations/test_integrator/blocks_800-899.h5::845', 'simulations/test_integrator/blocks_800-899.h5::846', 'simulations/test_integrator/blocks_800-899.h5::847', 'simulations/test_integrator/blocks_800-899.h5::848', 'simulations/test_integrator/blocks_800-899.h5::849', 'simulations/test_integrator/blocks_800-899.h5::850', 'simulations/test_integrator/blocks_800-899.h5::851', 'simulations/test_integrator/blocks_800-899.h5::852', 'simulations/test_integrator/blocks_800-899.h5::853', 'simulations/test_integrator/blocks_800-899.h5::854', 'simulations/test_integrator/blocks_800-899.h5::855', 'simulations/test_integrator/blocks_800-899.h5::856', 'simulations/test_integrator/blocks_800-899.h5::857', 'simulations/test_integrator/blocks_800-899.h5::858', 'simulations/test_integrator/blocks_800-899.h5::859', 'simulations/test_integrator/blocks_800-899.h5::860', 'simulations/test_integrator/blocks_800-899.h5::861', 'simulations/test_integrator/blocks_800-899.h5::862', 'simulations/test_integrator/blocks_800-899.h5::863', 'simulations/test_integrator/blocks_800-899.h5::864', 'simulations/test_integrator/blocks_800-899.h5::865', 'simulations/test_integrator/blocks_800-899.h5::866', 'simulations/test_integrator/blocks_800-899.h5::867', 'simulations/test_integrator/blocks_800-899.h5::868', 'simulations/test_integrator/blocks_800-899.h5::869', 'simulations/test_integrator/blocks_800-899.h5::870', 'simulations/test_integrator/blocks_800-899.h5::871', 'simulations/test_integrator/blocks_800-899.h5::872', 'simulations/test_integrator/blocks_800-899.h5::873', 'simulations/test_integrator/blocks_800-899.h5::874', 'simulations/test_integrator/blocks_800-899.h5::875', 'simulations/test_integrator/blocks_800-899.h5::876', 'simulations/test_integrator/blocks_800-899.h5::877', 'simulations/test_integrator/blocks_800-899.h5::878', 'simulations/test_integrator/blocks_800-899.h5::879', 'simulations/test_integrator/blocks_800-899.h5::880', 'simulations/test_integrator/blocks_800-899.h5::881', 'simulations/test_integrator/blocks_800-899.h5::882', 'simulations/test_integrator/blocks_800-899.h5::883', 'simulations/test_integrator/blocks_800-899.h5::884', 'simulations/test_integrator/blocks_800-899.h5::885', 'simulations/test_integrator/blocks_800-899.h5::886', 'simulations/test_integrator/blocks_800-899.h5::887', 'simulations/test_integrator/blocks_800-899.h5::888', 'simulations/test_integrator/blocks_800-899.h5::889', 'simulations/test_integrator/blocks_800-899.h5::890', 'simulations/test_integrator/blocks_800-899.h5::891', 'simulations/test_integrator/blocks_800-899.h5::892', 'simulations/test_integrator/blocks_800-899.h5::893', 'simulations/test_integrator/blocks_800-899.h5::894', 'simulations/test_integrator/blocks_800-899.h5::895', 'simulations/test_integrator/blocks_800-899.h5::896', 'simulations/test_integrator/blocks_800-899.h5::897', 'simulations/test_integrator/blocks_800-899.h5::898', 'simulations/test_integrator/blocks_800-899.h5::899', 'simulations/test_integrator/blocks_900-999.h5::900', 'simulations/test_integrator/blocks_900-999.h5::901', 'simulations/test_integrator/blocks_900-999.h5::902', 'simulations/test_integrator/blocks_900-999.h5::903', 'simulations/test_integrator/blocks_900-999.h5::904', 'simulations/test_integrator/blocks_900-999.h5::905', 'simulations/test_integrator/blocks_900-999.h5::906', 'simulations/test_integrator/blocks_900-999.h5::907', 'simulations/test_integrator/blocks_900-999.h5::908', 'simulations/test_integrator/blocks_900-999.h5::909', 'simulations/test_integrator/blocks_900-999.h5::910', 'simulations/test_integrator/blocks_900-999.h5::911', 'simulations/test_integrator/blocks_900-999.h5::912', 'simulations/test_integrator/blocks_900-999.h5::913', 'simulations/test_integrator/blocks_900-999.h5::914', 'simulations/test_integrator/blocks_900-999.h5::915', 'simulations/test_integrator/blocks_900-999.h5::916', 'simulations/test_integrator/blocks_900-999.h5::917', 'simulations/test_integrator/blocks_900-999.h5::918', 'simulations/test_integrator/blocks_900-999.h5::919', 'simulations/test_integrator/blocks_900-999.h5::920', 'simulations/test_integrator/blocks_900-999.h5::921', 'simulations/test_integrator/blocks_900-999.h5::922', 'simulations/test_integrator/blocks_900-999.h5::923', 'simulations/test_integrator/blocks_900-999.h5::924', 'simulations/test_integrator/blocks_900-999.h5::925', 'simulations/test_integrator/blocks_900-999.h5::926', 'simulations/test_integrator/blocks_900-999.h5::927', 'simulations/test_integrator/blocks_900-999.h5::928', 'simulations/test_integrator/blocks_900-999.h5::929', 'simulations/test_integrator/blocks_900-999.h5::930', 'simulations/test_integrator/blocks_900-999.h5::931', 'simulations/test_integrator/blocks_900-999.h5::932', 'simulations/test_integrator/blocks_900-999.h5::933', 'simulations/test_integrator/blocks_900-999.h5::934', 'simulations/test_integrator/blocks_900-999.h5::935', 'simulations/test_integrator/blocks_900-999.h5::936', 'simulations/test_integrator/blocks_900-999.h5::937', 'simulations/test_integrator/blocks_900-999.h5::938', 'simulations/test_integrator/blocks_900-999.h5::939', 'simulations/test_integrator/blocks_900-999.h5::940', 'simulations/test_integrator/blocks_900-999.h5::941', 'simulations/test_integrator/blocks_900-999.h5::942', 'simulations/test_integrator/blocks_900-999.h5::943', 'simulations/test_integrator/blocks_900-999.h5::944', 'simulations/test_integrator/blocks_900-999.h5::945', 'simulations/test_integrator/blocks_900-999.h5::946', 'simulations/test_integrator/blocks_900-999.h5::947', 'simulations/test_integrator/blocks_900-999.h5::948', 'simulations/test_integrator/blocks_900-999.h5::949', 'simulations/test_integrator/blocks_900-999.h5::950', 'simulations/test_integrator/blocks_900-999.h5::951', 'simulations/test_integrator/blocks_900-999.h5::952', 'simulations/test_integrator/blocks_900-999.h5::953', 'simulations/test_integrator/blocks_900-999.h5::954', 'simulations/test_integrator/blocks_900-999.h5::955', 'simulations/test_integrator/blocks_900-999.h5::956', 'simulations/test_integrator/blocks_900-999.h5::957', 'simulations/test_integrator/blocks_900-999.h5::958', 'simulations/test_integrator/blocks_900-999.h5::959', 'simulations/test_integrator/blocks_900-999.h5::960', 'simulations/test_integrator/blocks_900-999.h5::961', 'simulations/test_integrator/blocks_900-999.h5::962', 'simulations/test_integrator/blocks_900-999.h5::963', 'simulations/test_integrator/blocks_900-999.h5::964', 'simulations/test_integrator/blocks_900-999.h5::965', 'simulations/test_integrator/blocks_900-999.h5::966', 'simulations/test_integrator/blocks_900-999.h5::967', 'simulations/test_integrator/blocks_900-999.h5::968', 'simulations/test_integrator/blocks_900-999.h5::969', 'simulations/test_integrator/blocks_900-999.h5::970', 'simulations/test_integrator/blocks_900-999.h5::971', 'simulations/test_integrator/blocks_900-999.h5::972', 'simulations/test_integrator/blocks_900-999.h5::973', 'simulations/test_integrator/blocks_900-999.h5::974', 'simulations/test_integrator/blocks_900-999.h5::975', 'simulations/test_integrator/blocks_900-999.h5::976', 'simulations/test_integrator/blocks_900-999.h5::977', 'simulations/test_integrator/blocks_900-999.h5::978', 'simulations/test_integrator/blocks_900-999.h5::979', 'simulations/test_integrator/blocks_900-999.h5::980', 'simulations/test_integrator/blocks_900-999.h5::981', 'simulations/test_integrator/blocks_900-999.h5::982', 'simulations/test_integrator/blocks_900-999.h5::983', 'simulations/test_integrator/blocks_900-999.h5::984', 'simulations/test_integrator/blocks_900-999.h5::985', 'simulations/test_integrator/blocks_900-999.h5::986', 'simulations/test_integrator/blocks_900-999.h5::987', 'simulations/test_integrator/blocks_900-999.h5::988', 'simulations/test_integrator/blocks_900-999.h5::989', 'simulations/test_integrator/blocks_900-999.h5::990', 'simulations/test_integrator/blocks_900-999.h5::991', 'simulations/test_integrator/blocks_900-999.h5::992', 'simulations/test_integrator/blocks_900-999.h5::993', 'simulations/test_integrator/blocks_900-999.h5::994', 'simulations/test_integrator/blocks_900-999.h5::995', 'simulations/test_integrator/blocks_900-999.h5::996', 'simulations/test_integrator/blocks_900-999.h5::997', 'simulations/test_integrator/blocks_900-999.h5::998', 'simulations/test_integrator/blocks_900-999.h5::999']\n"
     ]
    }
   ],
   "source": [
    "trajs = list_URIs('simulations/test_integrator')\n",
    "print(trajs)"
   ]
  },
  {
   "cell_type": "markdown",
   "id": "6b3ce699",
   "metadata": {},
   "source": [
    "## Computing P(s) scaling as a function of simulation time"
   ]
  },
  {
   "cell_type": "code",
   "execution_count": 16,
   "id": "c48929e6",
   "metadata": {},
   "outputs": [],
   "source": [
    "from cooltools.lib import numutils\n",
    "from pathlib import Path\n",
    "\n",
    "basepath ='simulations/test_integrator'"
   ]
  },
  {
   "cell_type": "code",
   "execution_count": 23,
   "id": "ea2173f7",
   "metadata": {},
   "outputs": [],
   "source": [
    "with h5py.File(Path(basepath)/\"initArgs_0.h5\", 'r') as f:\n",
    "    N = f.attrs['N']\n",
    "chains = np.arange(0, N+1, N)\n",
    "\n",
    "T_steps = 1000\n",
    "integrations_per_save = 100\n",
    "T_blocks = T_steps\n",
    "\n",
    "col_rate = 2.0\n",
    "density = 0.224\n",
    "Nmd = 10000\n",
    "\n",
    "polymer_state = f'density{density:.3f}_col-rate{col_rate:.2f}'\n",
    "basepath = 'simulations/test_integrator'"
   ]
  },
  {
   "cell_type": "code",
   "execution_count": 18,
   "id": "5d84e428",
   "metadata": {},
   "outputs": [
    {
     "data": {
      "text/plain": [
       "array([  0,   1,   2,   3,   4,   5,   7,   9,  11,  14,  18,  23,  30,\n",
       "        38,  48,  62,  78, 100])"
      ]
     },
     "execution_count": 18,
     "metadata": {},
     "output_type": "execute_result"
    }
   ],
   "source": [
    "bin_edges = numutils._logbins_numba(1, N, ratio=1.25, prepend_zero=True)\n",
    "bin_edges"
   ]
  },
  {
   "cell_type": "code",
   "execution_count": 22,
   "id": "e121e91c",
   "metadata": {},
   "outputs": [
    {
     "data": {
      "text/plain": [
       "array([  50,   64,   82,  106,  136,  174,  224,  287,  368,  473,  607,\n",
       "        779, 1000])"
      ]
     },
     "execution_count": 22,
     "metadata": {},
     "output_type": "execute_result"
    }
   ],
   "source": [
    "start = int(0.05*T_blocks)\n",
    "end = T_blocks\n",
    "block_ratio = 1.25\n",
    "blocks = numutils._logbins_numba(start, end, ratio=block_ratio, prepend_zero=False)\n",
    "cutoff_rad = 1.0\n",
    "blocks"
   ]
  },
  {
   "cell_type": "code",
   "execution_count": 13,
   "id": "eae24748",
   "metadata": {},
   "outputs": [],
   "source": [
    "def Ps_sorter(blocks, bin_edges, chains, cutoff=1.1):\n",
    "    \n",
    "    def process(uri):\n",
    "        idx = int(uri.split('::')[-1])\n",
    "        data = load_URI(uri)['pos']\n",
    "        \n",
    "        ser = {}\n",
    "        chunk = np.searchsorted(blocks, idx, side='right')\n",
    "        ser['chunk'] = [chunk]\n",
    "        \n",
    "        bins = None\n",
    "        contacts = None\n",
    "        for st, end in zip(chains[0:-1],chains[1:]):\n",
    "            conf = data[st:end,:]\n",
    "            x,y = polymer_analyses.contact_scaling(conf, bins0=bin_edges, cutoff=cutoff)\n",
    "            if bins is None:\n",
    "                bins = x\n",
    "            if contacts is None:\n",
    "                contacts = y\n",
    "            else:\n",
    "                contact = contacts + y\n",
    "                \n",
    "        ser['Ps'] = [(bins, contacts)]\n",
    "        return pd.DataFrame(ser)\n",
    "    \n",
    "    return process"
   ]
  },
  {
   "cell_type": "code",
   "execution_count": null,
   "id": "d68f9524",
   "metadata": {},
   "outputs": [],
   "source": []
  }
 ],
 "metadata": {
  "kernelspec": {
   "display_name": "Python 3 (ipykernel)",
   "language": "python",
   "name": "python3"
  },
  "language_info": {
   "codemirror_mode": {
    "name": "ipython",
    "version": 3
   },
   "file_extension": ".py",
   "mimetype": "text/x-python",
   "name": "python",
   "nbconvert_exporter": "python",
   "pygments_lexer": "ipython3",
   "version": "3.9.7"
  }
 },
 "nbformat": 4,
 "nbformat_minor": 5
}
