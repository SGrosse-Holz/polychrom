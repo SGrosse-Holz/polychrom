{
 "cells": [
  {
   "cell_type": "markdown",
   "id": "18d358e2",
   "metadata": {},
   "source": [
    "# Analyzing the output of a polychrom simulation\n",
    "\n",
    "Running example.py generates a few different output files, one with the starting conformation, one with the intial arguments, one with the appliced forces, one with the forcekit, and finally the blocks. Here, we ran 10 blocks, each of 100 timesteps each, and set the max data length to 5."
   ]
  },
  {
   "cell_type": "code",
   "execution_count": 2,
   "id": "0f90a493",
   "metadata": {},
   "outputs": [
    {
     "name": "stdout",
     "output_type": "stream",
     "text": [
      "applied_forces_0.h5  blocks_5-9.h5                 initArgs_0.h5\r\n",
      "blocks_0-4.h5        forcekit_polymer_chains_0.h5  starting_conformation_0.h5\r\n"
     ]
    }
   ],
   "source": [
    "ls trajectory/"
   ]
  },
  {
   "cell_type": "code",
   "execution_count": 5,
   "id": "2e4a0f4c",
   "metadata": {},
   "outputs": [
    {
     "name": "stdout",
     "output_type": "stream",
     "text": [
      "Requirement already satisfied: pandas in /home/dkannan/miniconda3/lib/python3.9/site-packages (1.4.1)\n",
      "Requirement already satisfied: python-dateutil>=2.8.1 in /home/dkannan/miniconda3/lib/python3.9/site-packages (from pandas) (2.8.2)\n",
      "Requirement already satisfied: numpy>=1.18.5 in /home/dkannan/miniconda3/lib/python3.9/site-packages (from pandas) (1.21.2)\n",
      "Requirement already satisfied: pytz>=2020.1 in /home/dkannan/miniconda3/lib/python3.9/site-packages (from pandas) (2021.3)\n",
      "Requirement already satisfied: six>=1.5 in /home/dkannan/miniconda3/lib/python3.9/site-packages (from python-dateutil>=2.8.1->pandas) (1.16.0)\n"
     ]
    }
   ],
   "source": []
  },
  {
   "cell_type": "code",
   "execution_count": 1,
   "id": "a3ea8ace",
   "metadata": {},
   "outputs": [],
   "source": [
    "import pandas as pd"
   ]
  },
  {
   "cell_type": "code",
   "execution_count": 2,
   "id": "206d22ce",
   "metadata": {},
   "outputs": [
    {
     "data": {
      "application/vnd.jupyter.widget-view+json": {
       "model_id": "32d58b971dae46d6ba0a2f9a0d75ef7c",
       "version_major": 2,
       "version_minor": 0
      },
      "text/plain": []
     },
     "metadata": {},
     "output_type": "display_data"
    }
   ],
   "source": [
    "#Here are the import statements sameer used in his notebook to analyze a simulation\n",
    "import os\n",
    "import importlib as imp\n",
    "from collections import defaultdict\n",
    "import h5py\n",
    "import json\n",
    "from copy import deepcopy\n",
    "\n",
    "import matplotlib as mpl\n",
    "import matplotlib.pyplot as plt\n",
    "\n",
    "import numpy as np\n",
    "import numpy.ma as ma\n",
    "import pandas as pd\n",
    "import scipy\n",
    "from scipy.ndimage import gaussian_filter1d\n",
    "from scipy.interpolate import interp1d, interp2d\n",
    "\n",
    "import polychrom\n",
    "from polychrom import polymer_analyses, contactmaps, polymerutils\n",
    "from polychrom.hdf5_format import list_URIs, load_URI\n",
    "\n",
    "import nglutils as ngu\n",
    "import nglview as nv"
   ]
  },
  {
   "cell_type": "code",
   "execution_count": 2,
   "id": "590bf603",
   "metadata": {},
   "outputs": [],
   "source": [
    "%matplotlib notebook"
   ]
  },
  {
   "cell_type": "markdown",
   "id": "61bab219",
   "metadata": {},
   "source": [
    "## Reading data\n",
    "\n",
    "list_URIs will list all of the files starting with `block` with one URI (universal resource identifier aka path) per conformation"
   ]
  },
  {
   "cell_type": "code",
   "execution_count": 6,
   "id": "54859ea0",
   "metadata": {},
   "outputs": [
    {
     "name": "stdout",
     "output_type": "stream",
     "text": [
      "['trajectory/blocks_0-4.h5::0', 'trajectory/blocks_0-4.h5::1', 'trajectory/blocks_0-4.h5::2', 'trajectory/blocks_0-4.h5::3', 'trajectory/blocks_0-4.h5::4', 'trajectory/blocks_5-9.h5::5', 'trajectory/blocks_5-9.h5::6', 'trajectory/blocks_5-9.h5::7', 'trajectory/blocks_5-9.h5::8', 'trajectory/blocks_5-9.h5::9']\n"
     ]
    }
   ],
   "source": [
    "trajs = list_URIs('trajectory')\n",
    "print(trajs)"
   ]
  },
  {
   "cell_type": "code",
   "execution_count": 4,
   "id": "3d64227c",
   "metadata": {},
   "outputs": [],
   "source": [
    "#TODO: figure out how to extract initial parameters from other h5 files"
   ]
  },
  {
   "cell_type": "code",
   "execution_count": 7,
   "id": "3c4a28ed",
   "metadata": {},
   "outputs": [],
   "source": [
    "data = load_URI(trajs[0])"
   ]
  },
  {
   "cell_type": "code",
   "execution_count": 8,
   "id": "06c1db71",
   "metadata": {},
   "outputs": [
    {
     "data": {
      "text/plain": [
       "{'pos': array([[-0.47, -1.51, -0.37],\n",
       "        [-0.45, -1.95,  0.55],\n",
       "        [ 0.45, -2.32,  0.71],\n",
       "        ...,\n",
       "        [ 2.05, -1.76,  0.76],\n",
       "        [ 1.21, -1.56,  0.26],\n",
       "        [ 0.5 , -1.88, -0.22]], dtype=float32),\n",
       " 'block': 0,\n",
       " 'kineticEnergy': 1.8880411331282307,\n",
       " 'potentialEnergy': 2.5845410077802025,\n",
       " 'time': 6.356380507349968}"
      ]
     },
     "execution_count": 8,
     "metadata": {},
     "output_type": "execute_result"
    }
   ],
   "source": [
    "data"
   ]
  },
  {
   "cell_type": "code",
   "execution_count": 9,
   "id": "82da9135",
   "metadata": {},
   "outputs": [
    {
     "name": "stdout",
     "output_type": "stream",
     "text": [
      "applied_forces_0.h5  blocks_5-9.h5                 initArgs_0.h5\r\n",
      "blocks_0-4.h5        forcekit_polymer_chains_0.h5  starting_conformation_0.h5\r\n"
     ]
    }
   ],
   "source": [
    "ls trajectory"
   ]
  },
  {
   "cell_type": "code",
   "execution_count": 3,
   "id": "7c35efdf",
   "metadata": {},
   "outputs": [
    {
     "name": "stdout",
     "output_type": "stream",
     "text": [
      "<KeysViewHDF5 ['GPU', 'N', 'PBCbox', 'collision_rate', 'error_tol', 'integrator', 'length_scale', 'mass', 'max_Ek', 'platform', 'precision', 'save_decimals', 'temperature', 'verbose']>\n"
     ]
    }
   ],
   "source": [
    "with h5py.File(\"trajectory/initArgs_0.h5\", 'r') as f:\n",
    "    print(f.attrs.keys())"
   ]
  },
  {
   "cell_type": "code",
   "execution_count": null,
   "id": "792adfc8",
   "metadata": {},
   "outputs": [],
   "source": []
  }
 ],
 "metadata": {
  "kernelspec": {
   "display_name": "Python 3 (ipykernel)",
   "language": "python",
   "name": "python3"
  },
  "language_info": {
   "codemirror_mode": {
    "name": "ipython",
    "version": 3
   },
   "file_extension": ".py",
   "mimetype": "text/x-python",
   "name": "python",
   "nbconvert_exporter": "python",
   "pygments_lexer": "ipython3",
   "version": "3.9.7"
  }
 },
 "nbformat": 4,
 "nbformat_minor": 5
}
